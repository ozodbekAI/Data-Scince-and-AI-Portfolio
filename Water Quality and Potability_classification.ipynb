{
 "cells": [
  {
   "cell_type": "code",
   "execution_count": 1,
   "id": "2ee472f1",
   "metadata": {
    "_cell_guid": "b1076dfc-b9ad-4769-8c92-a6c4dae69d19",
    "_uuid": "8f2839f25d086af736a60e9eeb907d3b93b6e0e5",
    "execution": {
     "iopub.execute_input": "2023-09-28T10:02:07.781903Z",
     "iopub.status.busy": "2023-09-28T10:02:07.781074Z",
     "iopub.status.idle": "2023-09-28T10:02:27.535605Z",
     "shell.execute_reply": "2023-09-28T10:02:27.534442Z"
    },
    "papermill": {
     "duration": 19.764974,
     "end_time": "2023-09-28T10:02:27.538607",
     "exception": false,
     "start_time": "2023-09-28T10:02:07.773633",
     "status": "completed"
    },
    "tags": []
   },
   "outputs": [],
   "source": [
    "from IPython.display import clear_output\n",
    "!pip3 install -U lazypredict\n",
    "\n",
    "clear_output()\n",
    "\n",
    "import numpy as np\n",
    "import pandas as pd\n",
    "import seaborn as sns\n",
    "import plotly.express as px\n",
    "import matplotlib.pyplot as plt\n",
    "import plotly.graph_objects as go\n",
    "from plotly.subplots import make_subplots\n",
    "from sklearn.preprocessing import StandardScaler\n",
    "from yellowbrick.classifier import ROCAUC\n",
    "from sklearn.metrics import confusion_matrix\n",
    "from sklearn.metrics import classification_report\n",
    "\n",
    "from sklearn.impute import SimpleImputer\n",
    "from sklearn.metrics import accuracy_score\n",
    "from sklearn.preprocessing import LabelEncoder\n",
    "from sklearn.model_selection import StratifiedKFold, train_test_split\n",
    "\n",
    "from sklearn.model_selection import GridSearchCV\n",
    "from sklearn.linear_model import SGDClassifier\n",
    "\n",
    "from lightgbm import LGBMClassifier\n",
    "import lazypredict\n",
    "from lazypredict.Supervised import LazyClassifier\n",
    "\n",
    "import time\n",
    "import warnings\n",
    "warnings.filterwarnings('ignore')\n"
   ]
  },
  {
   "cell_type": "code",
   "execution_count": 2,
   "id": "8b3079f9",
   "metadata": {
    "execution": {
     "iopub.execute_input": "2023-09-28T10:02:27.550624Z",
     "iopub.status.busy": "2023-09-28T10:02:27.549532Z",
     "iopub.status.idle": "2023-09-28T10:02:27.587190Z",
     "shell.execute_reply": "2023-09-28T10:02:27.586279Z"
    },
    "papermill": {
     "duration": 0.0461,
     "end_time": "2023-09-28T10:02:27.589630",
     "exception": false,
     "start_time": "2023-09-28T10:02:27.543530",
     "status": "completed"
    },
    "tags": []
   },
   "outputs": [],
   "source": [
    "df = pd.read_csv(\"/kaggle/input/water-quality-and-potability/water_potability.csv\")"
   ]
  },
  {
   "cell_type": "code",
   "execution_count": 3,
   "id": "f9d2b2df",
   "metadata": {
    "execution": {
     "iopub.execute_input": "2023-09-28T10:02:27.601680Z",
     "iopub.status.busy": "2023-09-28T10:02:27.600597Z",
     "iopub.status.idle": "2023-09-28T10:02:27.623577Z",
     "shell.execute_reply": "2023-09-28T10:02:27.622722Z"
    },
    "papermill": {
     "duration": 0.031326,
     "end_time": "2023-09-28T10:02:27.625925",
     "exception": false,
     "start_time": "2023-09-28T10:02:27.594599",
     "status": "completed"
    },
    "tags": []
   },
   "outputs": [
    {
     "data": {
      "text/html": [
       "<div>\n",
       "<style scoped>\n",
       "    .dataframe tbody tr th:only-of-type {\n",
       "        vertical-align: middle;\n",
       "    }\n",
       "\n",
       "    .dataframe tbody tr th {\n",
       "        vertical-align: top;\n",
       "    }\n",
       "\n",
       "    .dataframe thead th {\n",
       "        text-align: right;\n",
       "    }\n",
       "</style>\n",
       "<table border=\"1\" class=\"dataframe\">\n",
       "  <thead>\n",
       "    <tr style=\"text-align: right;\">\n",
       "      <th></th>\n",
       "      <th>ph</th>\n",
       "      <th>Hardness</th>\n",
       "      <th>Solids</th>\n",
       "      <th>Chloramines</th>\n",
       "      <th>Sulfate</th>\n",
       "      <th>Conductivity</th>\n",
       "      <th>Organic_carbon</th>\n",
       "      <th>Trihalomethanes</th>\n",
       "      <th>Turbidity</th>\n",
       "      <th>Potability</th>\n",
       "    </tr>\n",
       "  </thead>\n",
       "  <tbody>\n",
       "    <tr>\n",
       "      <th>0</th>\n",
       "      <td>NaN</td>\n",
       "      <td>204.89</td>\n",
       "      <td>20791.32</td>\n",
       "      <td>7.30</td>\n",
       "      <td>368.52</td>\n",
       "      <td>564.31</td>\n",
       "      <td>10.38</td>\n",
       "      <td>86.99</td>\n",
       "      <td>2.96</td>\n",
       "      <td>0</td>\n",
       "    </tr>\n",
       "    <tr>\n",
       "      <th>1</th>\n",
       "      <td>3.72</td>\n",
       "      <td>129.42</td>\n",
       "      <td>18630.06</td>\n",
       "      <td>6.64</td>\n",
       "      <td>NaN</td>\n",
       "      <td>592.89</td>\n",
       "      <td>15.18</td>\n",
       "      <td>56.33</td>\n",
       "      <td>4.50</td>\n",
       "      <td>0</td>\n",
       "    </tr>\n",
       "    <tr>\n",
       "      <th>2</th>\n",
       "      <td>8.10</td>\n",
       "      <td>224.24</td>\n",
       "      <td>19909.54</td>\n",
       "      <td>9.28</td>\n",
       "      <td>NaN</td>\n",
       "      <td>418.61</td>\n",
       "      <td>16.87</td>\n",
       "      <td>66.42</td>\n",
       "      <td>3.06</td>\n",
       "      <td>0</td>\n",
       "    </tr>\n",
       "    <tr>\n",
       "      <th>3</th>\n",
       "      <td>8.32</td>\n",
       "      <td>214.37</td>\n",
       "      <td>22018.42</td>\n",
       "      <td>8.06</td>\n",
       "      <td>356.89</td>\n",
       "      <td>363.27</td>\n",
       "      <td>18.44</td>\n",
       "      <td>100.34</td>\n",
       "      <td>4.63</td>\n",
       "      <td>0</td>\n",
       "    </tr>\n",
       "    <tr>\n",
       "      <th>4</th>\n",
       "      <td>9.09</td>\n",
       "      <td>181.10</td>\n",
       "      <td>17978.99</td>\n",
       "      <td>6.55</td>\n",
       "      <td>310.14</td>\n",
       "      <td>398.41</td>\n",
       "      <td>11.56</td>\n",
       "      <td>32.00</td>\n",
       "      <td>4.08</td>\n",
       "      <td>0</td>\n",
       "    </tr>\n",
       "  </tbody>\n",
       "</table>\n",
       "</div>"
      ],
      "text/plain": [
       "    ph  Hardness   Solids  Chloramines  Sulfate  Conductivity  Organic_carbon  \\\n",
       "0  NaN    204.89 20791.32         7.30   368.52        564.31           10.38   \n",
       "1 3.72    129.42 18630.06         6.64      NaN        592.89           15.18   \n",
       "2 8.10    224.24 19909.54         9.28      NaN        418.61           16.87   \n",
       "3 8.32    214.37 22018.42         8.06   356.89        363.27           18.44   \n",
       "4 9.09    181.10 17978.99         6.55   310.14        398.41           11.56   \n",
       "\n",
       "   Trihalomethanes  Turbidity  Potability  \n",
       "0            86.99       2.96           0  \n",
       "1            56.33       4.50           0  \n",
       "2            66.42       3.06           0  \n",
       "3           100.34       4.63           0  \n",
       "4            32.00       4.08           0  "
      ]
     },
     "execution_count": 3,
     "metadata": {},
     "output_type": "execute_result"
    }
   ],
   "source": [
    "df.head()"
   ]
  },
  {
   "cell_type": "code",
   "execution_count": 4,
   "id": "ff0588e7",
   "metadata": {
    "execution": {
     "iopub.execute_input": "2023-09-28T10:02:27.637624Z",
     "iopub.status.busy": "2023-09-28T10:02:27.637051Z",
     "iopub.status.idle": "2023-09-28T10:02:27.801426Z",
     "shell.execute_reply": "2023-09-28T10:02:27.800339Z"
    },
    "papermill": {
     "duration": 0.172964,
     "end_time": "2023-09-28T10:02:27.803908",
     "exception": false,
     "start_time": "2023-09-28T10:02:27.630944",
     "status": "completed"
    },
    "tags": []
   },
   "outputs": [
    {
     "data": {
      "text/html": [
       "<div>\n",
       "<style scoped>\n",
       "    .dataframe tbody tr th:only-of-type {\n",
       "        vertical-align: middle;\n",
       "    }\n",
       "\n",
       "    .dataframe tbody tr th {\n",
       "        vertical-align: top;\n",
       "    }\n",
       "\n",
       "    .dataframe thead th {\n",
       "        text-align: right;\n",
       "    }\n",
       "</style>\n",
       "<table border=\"1\" class=\"dataframe\">\n",
       "  <thead>\n",
       "    <tr style=\"text-align: right;\">\n",
       "      <th></th>\n",
       "      <th>ph</th>\n",
       "      <th>Hardness</th>\n",
       "      <th>Solids</th>\n",
       "      <th>Chloramines</th>\n",
       "      <th>Sulfate</th>\n",
       "      <th>Conductivity</th>\n",
       "      <th>Organic_carbon</th>\n",
       "      <th>Trihalomethanes</th>\n",
       "      <th>Turbidity</th>\n",
       "      <th>Potability</th>\n",
       "    </tr>\n",
       "  </thead>\n",
       "  <tbody>\n",
       "    <tr>\n",
       "      <th>count</th>\n",
       "      <td>2785.00</td>\n",
       "      <td>3276.00</td>\n",
       "      <td>3276.00</td>\n",
       "      <td>3276.00</td>\n",
       "      <td>2495.00</td>\n",
       "      <td>3276.00</td>\n",
       "      <td>3276.00</td>\n",
       "      <td>3114.00</td>\n",
       "      <td>3276.00</td>\n",
       "      <td>3276.00</td>\n",
       "    </tr>\n",
       "    <tr>\n",
       "      <th>mean</th>\n",
       "      <td>7.08</td>\n",
       "      <td>196.37</td>\n",
       "      <td>22014.09</td>\n",
       "      <td>7.12</td>\n",
       "      <td>333.78</td>\n",
       "      <td>426.21</td>\n",
       "      <td>14.28</td>\n",
       "      <td>66.40</td>\n",
       "      <td>3.97</td>\n",
       "      <td>0.39</td>\n",
       "    </tr>\n",
       "    <tr>\n",
       "      <th>std</th>\n",
       "      <td>1.59</td>\n",
       "      <td>32.88</td>\n",
       "      <td>8768.57</td>\n",
       "      <td>1.58</td>\n",
       "      <td>41.42</td>\n",
       "      <td>80.82</td>\n",
       "      <td>3.31</td>\n",
       "      <td>16.18</td>\n",
       "      <td>0.78</td>\n",
       "      <td>0.49</td>\n",
       "    </tr>\n",
       "    <tr>\n",
       "      <th>min</th>\n",
       "      <td>0.00</td>\n",
       "      <td>47.43</td>\n",
       "      <td>320.94</td>\n",
       "      <td>0.35</td>\n",
       "      <td>129.00</td>\n",
       "      <td>181.48</td>\n",
       "      <td>2.20</td>\n",
       "      <td>0.74</td>\n",
       "      <td>1.45</td>\n",
       "      <td>0.00</td>\n",
       "    </tr>\n",
       "    <tr>\n",
       "      <th>25%</th>\n",
       "      <td>6.09</td>\n",
       "      <td>176.85</td>\n",
       "      <td>15666.69</td>\n",
       "      <td>6.13</td>\n",
       "      <td>307.70</td>\n",
       "      <td>365.73</td>\n",
       "      <td>12.07</td>\n",
       "      <td>55.84</td>\n",
       "      <td>3.44</td>\n",
       "      <td>0.00</td>\n",
       "    </tr>\n",
       "    <tr>\n",
       "      <th>50%</th>\n",
       "      <td>7.04</td>\n",
       "      <td>196.97</td>\n",
       "      <td>20927.83</td>\n",
       "      <td>7.13</td>\n",
       "      <td>333.07</td>\n",
       "      <td>421.88</td>\n",
       "      <td>14.22</td>\n",
       "      <td>66.62</td>\n",
       "      <td>3.96</td>\n",
       "      <td>0.00</td>\n",
       "    </tr>\n",
       "    <tr>\n",
       "      <th>75%</th>\n",
       "      <td>8.06</td>\n",
       "      <td>216.67</td>\n",
       "      <td>27332.76</td>\n",
       "      <td>8.11</td>\n",
       "      <td>359.95</td>\n",
       "      <td>481.79</td>\n",
       "      <td>16.56</td>\n",
       "      <td>77.34</td>\n",
       "      <td>4.50</td>\n",
       "      <td>1.00</td>\n",
       "    </tr>\n",
       "    <tr>\n",
       "      <th>max</th>\n",
       "      <td>14.00</td>\n",
       "      <td>323.12</td>\n",
       "      <td>61227.20</td>\n",
       "      <td>13.13</td>\n",
       "      <td>481.03</td>\n",
       "      <td>753.34</td>\n",
       "      <td>28.30</td>\n",
       "      <td>124.00</td>\n",
       "      <td>6.74</td>\n",
       "      <td>1.00</td>\n",
       "    </tr>\n",
       "  </tbody>\n",
       "</table>\n",
       "</div>"
      ],
      "text/plain": [
       "           ph  Hardness   Solids  Chloramines  Sulfate  Conductivity  \\\n",
       "count 2785.00   3276.00  3276.00      3276.00  2495.00       3276.00   \n",
       "mean     7.08    196.37 22014.09         7.12   333.78        426.21   \n",
       "std      1.59     32.88  8768.57         1.58    41.42         80.82   \n",
       "min      0.00     47.43   320.94         0.35   129.00        181.48   \n",
       "25%      6.09    176.85 15666.69         6.13   307.70        365.73   \n",
       "50%      7.04    196.97 20927.83         7.13   333.07        421.88   \n",
       "75%      8.06    216.67 27332.76         8.11   359.95        481.79   \n",
       "max     14.00    323.12 61227.20        13.13   481.03        753.34   \n",
       "\n",
       "       Organic_carbon  Trihalomethanes  Turbidity  Potability  \n",
       "count         3276.00          3114.00    3276.00     3276.00  \n",
       "mean            14.28            66.40       3.97        0.39  \n",
       "std              3.31            16.18       0.78        0.49  \n",
       "min              2.20             0.74       1.45        0.00  \n",
       "25%             12.07            55.84       3.44        0.00  \n",
       "50%             14.22            66.62       3.96        0.00  \n",
       "75%             16.56            77.34       4.50        1.00  \n",
       "max             28.30           124.00       6.74        1.00  "
      ]
     },
     "execution_count": 4,
     "metadata": {},
     "output_type": "execute_result"
    }
   ],
   "source": [
    "df.describe()"
   ]
  },
  {
   "cell_type": "code",
   "execution_count": 5,
   "id": "c0b865d8",
   "metadata": {
    "execution": {
     "iopub.execute_input": "2023-09-28T10:02:27.816183Z",
     "iopub.status.busy": "2023-09-28T10:02:27.815770Z",
     "iopub.status.idle": "2023-09-28T10:02:27.825984Z",
     "shell.execute_reply": "2023-09-28T10:02:27.824832Z"
    },
    "papermill": {
     "duration": 0.019264,
     "end_time": "2023-09-28T10:02:27.828598",
     "exception": false,
     "start_time": "2023-09-28T10:02:27.809334",
     "status": "completed"
    },
    "tags": []
   },
   "outputs": [
    {
     "data": {
      "text/plain": [
       "ph                 491\n",
       "Hardness             0\n",
       "Solids               0\n",
       "Chloramines          0\n",
       "Sulfate            781\n",
       "Conductivity         0\n",
       "Organic_carbon       0\n",
       "Trihalomethanes    162\n",
       "Turbidity            0\n",
       "Potability           0\n",
       "dtype: int64"
      ]
     },
     "execution_count": 5,
     "metadata": {},
     "output_type": "execute_result"
    }
   ],
   "source": [
    "#NULL qiymatlarni sonini aniqlab olamiz\n",
    "df.isna().sum()"
   ]
  },
  {
   "cell_type": "code",
   "execution_count": 6,
   "id": "ffc2343f",
   "metadata": {
    "execution": {
     "iopub.execute_input": "2023-09-28T10:02:27.841878Z",
     "iopub.status.busy": "2023-09-28T10:02:27.840831Z",
     "iopub.status.idle": "2023-09-28T10:02:27.852550Z",
     "shell.execute_reply": "2023-09-28T10:02:27.851374Z"
    },
    "papermill": {
     "duration": 0.020946,
     "end_time": "2023-09-28T10:02:27.855075",
     "exception": false,
     "start_time": "2023-09-28T10:02:27.834129",
     "status": "completed"
    },
    "tags": []
   },
   "outputs": [],
   "source": [
    "#NULL qiymatlarni to'ldrib chiqamiz\n",
    "df['ph'].fillna(df['ph'].mean(), axis=0, inplace=True)\n",
    "df['Sulfate'].fillna(df['Sulfate'].mean(), axis=0, inplace=True)\n",
    "df['Trihalomethanes'].fillna(df['Trihalomethanes'].mean(), axis=0, inplace=True)"
   ]
  },
  {
   "cell_type": "code",
   "execution_count": 7,
   "id": "591da96b",
   "metadata": {
    "execution": {
     "iopub.execute_input": "2023-09-28T10:02:27.868495Z",
     "iopub.status.busy": "2023-09-28T10:02:27.868053Z",
     "iopub.status.idle": "2023-09-28T10:02:27.880236Z",
     "shell.execute_reply": "2023-09-28T10:02:27.879026Z"
    },
    "papermill": {
     "duration": 0.022305,
     "end_time": "2023-09-28T10:02:27.882974",
     "exception": false,
     "start_time": "2023-09-28T10:02:27.860669",
     "status": "completed"
    },
    "tags": []
   },
   "outputs": [
    {
     "data": {
      "text/plain": [
       "ph                 0\n",
       "Hardness           0\n",
       "Solids             0\n",
       "Chloramines        0\n",
       "Sulfate            0\n",
       "Conductivity       0\n",
       "Organic_carbon     0\n",
       "Trihalomethanes    0\n",
       "Turbidity          0\n",
       "Potability         0\n",
       "dtype: int64"
      ]
     },
     "execution_count": 7,
     "metadata": {},
     "output_type": "execute_result"
    }
   ],
   "source": [
    "df.isna().sum()"
   ]
  },
  {
   "cell_type": "markdown",
   "id": "064e421e",
   "metadata": {
    "papermill": {
     "duration": 0.005597,
     "end_time": "2023-09-28T10:02:27.894817",
     "exception": false,
     "start_time": "2023-09-28T10:02:27.889220",
     "status": "completed"
    },
    "tags": []
   },
   "source": [
    "df"
   ]
  },
  {
   "cell_type": "code",
   "execution_count": 8,
   "id": "d0aaf392",
   "metadata": {
    "execution": {
     "iopub.execute_input": "2023-09-28T10:02:27.907599Z",
     "iopub.status.busy": "2023-09-28T10:02:27.907231Z",
     "iopub.status.idle": "2023-09-28T10:02:27.925673Z",
     "shell.execute_reply": "2023-09-28T10:02:27.924594Z"
    },
    "papermill": {
     "duration": 0.027845,
     "end_time": "2023-09-28T10:02:27.928226",
     "exception": false,
     "start_time": "2023-09-28T10:02:27.900381",
     "status": "completed"
    },
    "tags": []
   },
   "outputs": [
    {
     "data": {
      "text/plain": [
       "0"
      ]
     },
     "execution_count": 8,
     "metadata": {},
     "output_type": "execute_result"
    }
   ],
   "source": [
    "df.duplicated().sum()"
   ]
  },
  {
   "cell_type": "code",
   "execution_count": 9,
   "id": "c3365ad7",
   "metadata": {
    "execution": {
     "iopub.execute_input": "2023-09-28T10:02:27.942220Z",
     "iopub.status.busy": "2023-09-28T10:02:27.941815Z",
     "iopub.status.idle": "2023-09-28T10:02:28.279143Z",
     "shell.execute_reply": "2023-09-28T10:02:28.277833Z"
    },
    "papermill": {
     "duration": 0.347627,
     "end_time": "2023-09-28T10:02:28.281555",
     "exception": false,
     "start_time": "2023-09-28T10:02:27.933928",
     "status": "completed"
    },
    "tags": []
   },
   "outputs": [
    {
     "data": {
      "image/png": "[encoded data removed]",
      "text/plain": [
       "<Figure size 600x300 with 1 Axes>"
      ]
     },
     "metadata": {},
     "output_type": "display_data"
    }
   ],
   "source": [
    "value_counts = df['Potability'].value_counts()\n",
    "\n",
    "plt.figure(figsize=(6, 3))\n",
    "value_counts.plot(kind='bar', color='green')\n",
    "plt.title(\"Distribution\")\n",
    "plt.xlabel(\"Turi\")\n",
    "plt.ylabel(\"Soni\")\n",
    "plt.show()"
   ]
  },
  {
   "cell_type": "code",
   "execution_count": 10,
   "id": "43b41c02",
   "metadata": {
    "execution": {
     "iopub.execute_input": "2023-09-28T10:02:28.297150Z",
     "iopub.status.busy": "2023-09-28T10:02:28.296752Z",
     "iopub.status.idle": "2023-09-28T10:02:28.316011Z",
     "shell.execute_reply": "2023-09-28T10:02:28.314501Z"
    },
    "papermill": {
     "duration": 0.030996,
     "end_time": "2023-09-28T10:02:28.318464",
     "exception": false,
     "start_time": "2023-09-28T10:02:28.287468",
     "status": "completed"
    },
    "tags": []
   },
   "outputs": [
    {
     "name": "stdout",
     "output_type": "stream",
     "text": [
      "(2620, 9)\n",
      "(656, 9)\n",
      "(2620,)\n",
      "(656,)\n"
     ]
    }
   ],
   "source": [
    "#Machine Learning\n",
    "\n",
    "scaler = StandardScaler()\n",
    "\n",
    "X = df.drop(columns='Potability')\n",
    "y = df['Potability']\n",
    "\n",
    "scaled_data = scaler.fit_transform(X)\n",
    "\n",
    "X_train, X_test, y_train, y_test = train_test_split(X, y, test_size=0.20, random_state=45)\n",
    "\n",
    "print(X_train.shape)\n",
    "print(X_test.shape)\n",
    "print(y_train.shape)\n",
    "print(y_test.shape)\n"
   ]
  },
  {
   "cell_type": "code",
   "execution_count": 11,
   "id": "85f3ab1b",
   "metadata": {
    "execution": {
     "iopub.execute_input": "2023-09-28T10:02:28.332638Z",
     "iopub.status.busy": "2023-09-28T10:02:28.332090Z",
     "iopub.status.idle": "2023-09-28T10:02:35.911314Z",
     "shell.execute_reply": "2023-09-28T10:02:35.910511Z"
    },
    "papermill": {
     "duration": 7.58892,
     "end_time": "2023-09-28T10:02:35.913447",
     "exception": false,
     "start_time": "2023-09-28T10:02:28.324527",
     "status": "completed"
    },
    "tags": []
   },
   "outputs": [
    {
     "name": "stderr",
     "output_type": "stream",
     "text": [
      "100%|██████████| 29/29 [00:07<00:00,  3.83it/s]\n"
     ]
    }
   ],
   "source": [
    "clf = LazyClassifier( verbose=0,\n",
    "                      ignore_warnings=True,\n",
    "                        custom_metric=None,\n",
    "                        predictions=False,\n",
    "                        random_state=45,\n",
    "                        classifiers='all'\n",
    "                            )\n",
    "models, predictions = clf.fit(X_train, X_test, y_train, y_test)"
   ]
  },
  {
   "cell_type": "code",
   "execution_count": 12,
   "id": "6a7ddc37",
   "metadata": {
    "execution": {
     "iopub.execute_input": "2023-09-28T10:02:35.930329Z",
     "iopub.status.busy": "2023-09-28T10:02:35.929642Z",
     "iopub.status.idle": "2023-09-28T10:02:35.942299Z",
     "shell.execute_reply": "2023-09-28T10:02:35.941447Z"
    },
    "papermill": {
     "duration": 0.023579,
     "end_time": "2023-09-28T10:02:35.944477",
     "exception": false,
     "start_time": "2023-09-28T10:02:35.920898",
     "status": "completed"
    },
    "tags": []
   },
   "outputs": [
    {
     "data": {
      "text/html": [
       "<div>\n",
       "<style scoped>\n",
       "    .dataframe tbody tr th:only-of-type {\n",
       "        vertical-align: middle;\n",
       "    }\n",
       "\n",
       "    .dataframe tbody tr th {\n",
       "        vertical-align: top;\n",
       "    }\n",
       "\n",
       "    .dataframe thead th {\n",
       "        text-align: right;\n",
       "    }\n",
       "</style>\n",
       "<table border=\"1\" class=\"dataframe\">\n",
       "  <thead>\n",
       "    <tr style=\"text-align: right;\">\n",
       "      <th></th>\n",
       "      <th>Accuracy</th>\n",
       "      <th>Balanced Accuracy</th>\n",
       "      <th>ROC AUC</th>\n",
       "      <th>F1 Score</th>\n",
       "      <th>Time Taken</th>\n",
       "    </tr>\n",
       "    <tr>\n",
       "      <th>Model</th>\n",
       "      <th></th>\n",
       "      <th></th>\n",
       "      <th></th>\n",
       "      <th></th>\n",
       "      <th></th>\n",
       "    </tr>\n",
       "  </thead>\n",
       "  <tbody>\n",
       "    <tr>\n",
       "      <th>LGBMClassifier</th>\n",
       "      <td>0.67</td>\n",
       "      <td>0.63</td>\n",
       "      <td>0.63</td>\n",
       "      <td>0.65</td>\n",
       "      <td>0.62</td>\n",
       "    </tr>\n",
       "    <tr>\n",
       "      <th>XGBClassifier</th>\n",
       "      <td>0.66</td>\n",
       "      <td>0.62</td>\n",
       "      <td>0.62</td>\n",
       "      <td>0.65</td>\n",
       "      <td>0.66</td>\n",
       "    </tr>\n",
       "    <tr>\n",
       "      <th>NuSVC</th>\n",
       "      <td>0.64</td>\n",
       "      <td>0.60</td>\n",
       "      <td>0.60</td>\n",
       "      <td>0.63</td>\n",
       "      <td>0.53</td>\n",
       "    </tr>\n",
       "    <tr>\n",
       "      <th>SVC</th>\n",
       "      <td>0.67</td>\n",
       "      <td>0.60</td>\n",
       "      <td>0.60</td>\n",
       "      <td>0.62</td>\n",
       "      <td>0.35</td>\n",
       "    </tr>\n",
       "    <tr>\n",
       "      <th>QuadraticDiscriminantAnalysis</th>\n",
       "      <td>0.66</td>\n",
       "      <td>0.60</td>\n",
       "      <td>0.60</td>\n",
       "      <td>0.62</td>\n",
       "      <td>0.05</td>\n",
       "    </tr>\n",
       "    <tr>\n",
       "      <th>ExtraTreeClassifier</th>\n",
       "      <td>0.61</td>\n",
       "      <td>0.59</td>\n",
       "      <td>0.59</td>\n",
       "      <td>0.61</td>\n",
       "      <td>0.02</td>\n",
       "    </tr>\n",
       "    <tr>\n",
       "      <th>ExtraTreesClassifier</th>\n",
       "      <td>0.65</td>\n",
       "      <td>0.59</td>\n",
       "      <td>0.59</td>\n",
       "      <td>0.61</td>\n",
       "      <td>0.55</td>\n",
       "    </tr>\n",
       "    <tr>\n",
       "      <th>RandomForestClassifier</th>\n",
       "      <td>0.65</td>\n",
       "      <td>0.58</td>\n",
       "      <td>0.58</td>\n",
       "      <td>0.61</td>\n",
       "      <td>1.18</td>\n",
       "    </tr>\n",
       "    <tr>\n",
       "      <th>BaggingClassifier</th>\n",
       "      <td>0.63</td>\n",
       "      <td>0.58</td>\n",
       "      <td>0.58</td>\n",
       "      <td>0.61</td>\n",
       "      <td>0.28</td>\n",
       "    </tr>\n",
       "    <tr>\n",
       "      <th>KNeighborsClassifier</th>\n",
       "      <td>0.61</td>\n",
       "      <td>0.57</td>\n",
       "      <td>0.57</td>\n",
       "      <td>0.60</td>\n",
       "      <td>0.09</td>\n",
       "    </tr>\n",
       "    <tr>\n",
       "      <th>LabelSpreading</th>\n",
       "      <td>0.58</td>\n",
       "      <td>0.56</td>\n",
       "      <td>0.56</td>\n",
       "      <td>0.58</td>\n",
       "      <td>0.69</td>\n",
       "    </tr>\n",
       "    <tr>\n",
       "      <th>DecisionTreeClassifier</th>\n",
       "      <td>0.57</td>\n",
       "      <td>0.56</td>\n",
       "      <td>0.56</td>\n",
       "      <td>0.58</td>\n",
       "      <td>0.06</td>\n",
       "    </tr>\n",
       "    <tr>\n",
       "      <th>GaussianNB</th>\n",
       "      <td>0.63</td>\n",
       "      <td>0.56</td>\n",
       "      <td>0.56</td>\n",
       "      <td>0.58</td>\n",
       "      <td>0.02</td>\n",
       "    </tr>\n",
       "    <tr>\n",
       "      <th>LabelPropagation</th>\n",
       "      <td>0.58</td>\n",
       "      <td>0.56</td>\n",
       "      <td>0.56</td>\n",
       "      <td>0.58</td>\n",
       "      <td>0.53</td>\n",
       "    </tr>\n",
       "    <tr>\n",
       "      <th>AdaBoostClassifier</th>\n",
       "      <td>0.61</td>\n",
       "      <td>0.54</td>\n",
       "      <td>0.54</td>\n",
       "      <td>0.56</td>\n",
       "      <td>0.33</td>\n",
       "    </tr>\n",
       "    <tr>\n",
       "      <th>SGDClassifier</th>\n",
       "      <td>0.57</td>\n",
       "      <td>0.52</td>\n",
       "      <td>0.52</td>\n",
       "      <td>0.54</td>\n",
       "      <td>0.09</td>\n",
       "    </tr>\n",
       "    <tr>\n",
       "      <th>NearestCentroid</th>\n",
       "      <td>0.52</td>\n",
       "      <td>0.52</td>\n",
       "      <td>0.52</td>\n",
       "      <td>0.53</td>\n",
       "      <td>0.08</td>\n",
       "    </tr>\n",
       "    <tr>\n",
       "      <th>PassiveAggressiveClassifier</th>\n",
       "      <td>0.53</td>\n",
       "      <td>0.52</td>\n",
       "      <td>0.52</td>\n",
       "      <td>0.53</td>\n",
       "      <td>0.02</td>\n",
       "    </tr>\n",
       "    <tr>\n",
       "      <th>LogisticRegression</th>\n",
       "      <td>0.60</td>\n",
       "      <td>0.50</td>\n",
       "      <td>0.50</td>\n",
       "      <td>0.45</td>\n",
       "      <td>0.08</td>\n",
       "    </tr>\n",
       "    <tr>\n",
       "      <th>LinearDiscriminantAnalysis</th>\n",
       "      <td>0.60</td>\n",
       "      <td>0.50</td>\n",
       "      <td>0.50</td>\n",
       "      <td>0.45</td>\n",
       "      <td>0.08</td>\n",
       "    </tr>\n",
       "    <tr>\n",
       "      <th>DummyClassifier</th>\n",
       "      <td>0.60</td>\n",
       "      <td>0.50</td>\n",
       "      <td>0.50</td>\n",
       "      <td>0.45</td>\n",
       "      <td>0.02</td>\n",
       "    </tr>\n",
       "    <tr>\n",
       "      <th>RidgeClassifier</th>\n",
       "      <td>0.60</td>\n",
       "      <td>0.50</td>\n",
       "      <td>0.50</td>\n",
       "      <td>0.45</td>\n",
       "      <td>0.09</td>\n",
       "    </tr>\n",
       "    <tr>\n",
       "      <th>RidgeClassifierCV</th>\n",
       "      <td>0.60</td>\n",
       "      <td>0.50</td>\n",
       "      <td>0.50</td>\n",
       "      <td>0.45</td>\n",
       "      <td>0.08</td>\n",
       "    </tr>\n",
       "    <tr>\n",
       "      <th>CalibratedClassifierCV</th>\n",
       "      <td>0.60</td>\n",
       "      <td>0.50</td>\n",
       "      <td>0.50</td>\n",
       "      <td>0.45</td>\n",
       "      <td>0.80</td>\n",
       "    </tr>\n",
       "    <tr>\n",
       "      <th>BernoulliNB</th>\n",
       "      <td>0.60</td>\n",
       "      <td>0.50</td>\n",
       "      <td>0.50</td>\n",
       "      <td>0.45</td>\n",
       "      <td>0.02</td>\n",
       "    </tr>\n",
       "    <tr>\n",
       "      <th>LinearSVC</th>\n",
       "      <td>0.60</td>\n",
       "      <td>0.50</td>\n",
       "      <td>0.50</td>\n",
       "      <td>0.45</td>\n",
       "      <td>0.19</td>\n",
       "    </tr>\n",
       "    <tr>\n",
       "      <th>Perceptron</th>\n",
       "      <td>0.52</td>\n",
       "      <td>0.49</td>\n",
       "      <td>0.49</td>\n",
       "      <td>0.52</td>\n",
       "      <td>0.02</td>\n",
       "    </tr>\n",
       "  </tbody>\n",
       "</table>\n",
       "</div>"
      ],
      "text/plain": [
       "                               Accuracy  Balanced Accuracy  ROC AUC  F1 Score  \\\n",
       "Model                                                                           \n",
       "LGBMClassifier                     0.67               0.63     0.63      0.65   \n",
       "XGBClassifier                      0.66               0.62     0.62      0.65   \n",
       "NuSVC                              0.64               0.60     0.60      0.63   \n",
       "SVC                                0.67               0.60     0.60      0.62   \n",
       "QuadraticDiscriminantAnalysis      0.66               0.60     0.60      0.62   \n",
       "ExtraTreeClassifier                0.61               0.59     0.59      0.61   \n",
       "ExtraTreesClassifier               0.65               0.59     0.59      0.61   \n",
       "RandomForestClassifier             0.65               0.58     0.58      0.61   \n",
       "BaggingClassifier                  0.63               0.58     0.58      0.61   \n",
       "KNeighborsClassifier               0.61               0.57     0.57      0.60   \n",
       "LabelSpreading                     0.58               0.56     0.56      0.58   \n",
       "DecisionTreeClassifier             0.57               0.56     0.56      0.58   \n",
       "GaussianNB                         0.63               0.56     0.56      0.58   \n",
       "LabelPropagation                   0.58               0.56     0.56      0.58   \n",
       "AdaBoostClassifier                 0.61               0.54     0.54      0.56   \n",
       "SGDClassifier                      0.57               0.52     0.52      0.54   \n",
       "NearestCentroid                    0.52               0.52     0.52      0.53   \n",
       "PassiveAggressiveClassifier        0.53               0.52     0.52      0.53   \n",
       "LogisticRegression                 0.60               0.50     0.50      0.45   \n",
       "LinearDiscriminantAnalysis         0.60               0.50     0.50      0.45   \n",
       "DummyClassifier                    0.60               0.50     0.50      0.45   \n",
       "RidgeClassifier                    0.60               0.50     0.50      0.45   \n",
       "RidgeClassifierCV                  0.60               0.50     0.50      0.45   \n",
       "CalibratedClassifierCV             0.60               0.50     0.50      0.45   \n",
       "BernoulliNB                        0.60               0.50     0.50      0.45   \n",
       "LinearSVC                          0.60               0.50     0.50      0.45   \n",
       "Perceptron                         0.52               0.49     0.49      0.52   \n",
       "\n",
       "                               Time Taken  \n",
       "Model                                      \n",
       "LGBMClassifier                       0.62  \n",
       "XGBClassifier                        0.66  \n",
       "NuSVC                                0.53  \n",
       "SVC                                  0.35  \n",
       "QuadraticDiscriminantAnalysis        0.05  \n",
       "ExtraTreeClassifier                  0.02  \n",
       "ExtraTreesClassifier                 0.55  \n",
       "RandomForestClassifier               1.18  \n",
       "BaggingClassifier                    0.28  \n",
       "KNeighborsClassifier                 0.09  \n",
       "LabelSpreading                       0.69  \n",
       "DecisionTreeClassifier               0.06  \n",
       "GaussianNB                           0.02  \n",
       "LabelPropagation                     0.53  \n",
       "AdaBoostClassifier                   0.33  \n",
       "SGDClassifier                        0.09  \n",
       "NearestCentroid                      0.08  \n",
       "PassiveAggressiveClassifier          0.02  \n",
       "LogisticRegression                   0.08  \n",
       "LinearDiscriminantAnalysis           0.08  \n",
       "DummyClassifier                      0.02  \n",
       "RidgeClassifier                      0.09  \n",
       "RidgeClassifierCV                    0.08  \n",
       "CalibratedClassifierCV               0.80  \n",
       "BernoulliNB                          0.02  \n",
       "LinearSVC                            0.19  \n",
       "Perceptron                           0.02  "
      ]
     },
     "execution_count": 12,
     "metadata": {},
     "output_type": "execute_result"
    }
   ],
   "source": [
    "models"
   ]
  },
  {
   "cell_type": "code",
   "execution_count": 13,
   "id": "c4abc003",
   "metadata": {
    "execution": {
     "iopub.execute_input": "2023-09-28T10:02:35.962511Z",
     "iopub.status.busy": "2023-09-28T10:02:35.961732Z",
     "iopub.status.idle": "2023-09-28T10:02:37.885299Z",
     "shell.execute_reply": "2023-09-28T10:02:37.884284Z"
    },
    "papermill": {
     "duration": 1.935141,
     "end_time": "2023-09-28T10:02:37.887789",
     "exception": false,
     "start_time": "2023-09-28T10:02:35.952648",
     "status": "completed"
    },
    "tags": []
   },
   "outputs": [
    {
     "data": {
      "text/html": [
       "        <script type=\"text/javascript\">\n",
       "        window.PlotlyConfig = {MathJaxConfig: 'local'};\n",
       "        if (window.MathJax && window.MathJax.Hub && window.MathJax.Hub.Config) {window.MathJax.Hub.Config({SVG: {font: \"STIX-Web\"}});}\n",
       "        if (typeof require !== 'undefined') {\n",
       "        require.undef(\"plotly\");\n",
       "        requirejs.config({\n",
       "            paths: {\n",
       "                'plotly': ['https://cdn.plot.ly/plotly-2.24.1.min']\n",
       "            }\n",
       "        });\n",
       "        require(['plotly'], function(Plotly) {\n",
       "            window._Plotly = Plotly;\n",
       "        });\n",
       "        }\n",
       "        </script>\n",
       "        "
      ]
     },
     "metadata": {},
     "output_type": "display_data"
    },
    {
     "data": {
      "text/html": [
       "<div>                            <div id=\"3055b105-093b-422d-b200-78d047adca7a\" class=\"plotly-graph-div\" style=\"height:525px; width:100%;\"></div>            <script type=\"text/javascript\">                require([\"plotly\"], function(Plotly) {                    window.PLOTLYENV=window.PLOTLYENV || {};                                    if (document.getElementById(\"3055b105-093b-422d-b200-78d047adca7a\")) {                    Plotly.newPlot(                        \"3055b105-093b-422d-b200-78d047adca7a\",                        [{\"hovertemplate\":\"variable=Accuracy\\u003cbr\\u003eModel=%{x}\\u003cbr\\u003evalue=%{y}\\u003cextra\\u003e\\u003c\\u002fextra\\u003e\",\"legendgroup\":\"Accuracy\",\"line\":{\"color\":\"green\",\"dash\":\"solid\"},\"marker\":{\"symbol\":\"circle\"},\"mode\":\"markers+lines\",\"name\":\"Accuracy\",\"orientation\":\"v\",\"showlegend\":true,\"x\":[\"LGBMClassifier\",\"XGBClassifier\",\"NuSVC\",\"SVC\",\"QuadraticDiscriminantAnalysis\",\"ExtraTreeClassifier\",\"ExtraTreesClassifier\",\"RandomForestClassifier\",\"BaggingClassifier\",\"KNeighborsClassifier\",\"LabelSpreading\",\"DecisionTreeClassifier\",\"GaussianNB\",\"LabelPropagation\",\"AdaBoostClassifier\",\"SGDClassifier\",\"NearestCentroid\",\"PassiveAggressiveClassifier\",\"LogisticRegression\",\"LinearDiscriminantAnalysis\",\"DummyClassifier\",\"RidgeClassifier\",\"RidgeClassifierCV\",\"CalibratedClassifierCV\",\"BernoulliNB\",\"LinearSVC\",\"Perceptron\"],\"xaxis\":\"x\",\"y\":[0.6661585365853658,0.6570121951219512,0.635670731707317,0.6676829268292683,0.6585365853658537,0.6082317073170732,0.6478658536585366,0.6463414634146342,0.6326219512195121,0.6112804878048781,0.5838414634146342,0.5746951219512195,0.6280487804878049,0.5792682926829268,0.6112804878048781,0.5746951219512195,0.5228658536585366,0.5320121951219512,0.6036585365853658,0.6036585365853658,0.6036585365853658,0.6036585365853658,0.6036585365853658,0.6036585365853658,0.6036585365853658,0.6036585365853658,0.5198170731707317],\"yaxis\":\"y\",\"type\":\"scatter\"}],                        {\"template\":{\"data\":{\"histogram2dcontour\":[{\"type\":\"histogram2dcontour\",\"colorbar\":{\"outlinewidth\":0,\"ticks\":\"\"},\"colorscale\":[[0.0,\"#0d0887\"],[0.1111111111111111,\"#46039f\"],[0.2222222222222222,\"#7201a8\"],[0.3333333333333333,\"#9c179e\"],[0.4444444444444444,\"#bd3786\"],[0.5555555555555556,\"#d8576b\"],[0.6666666666666666,\"#ed7953\"],[0.7777777777777778,\"#fb9f3a\"],[0.8888888888888888,\"#fdca26\"],[1.0,\"#f0f921\"]]}],\"choropleth\":[{\"type\":\"choropleth\",\"colorbar\":{\"outlinewidth\":0,\"ticks\":\"\"}}],\"histogram2d\":[{\"type\":\"histogram2d\",\"colorbar\":{\"outlinewidth\":0,\"ticks\":\"\"},\"colorscale\":[[0.0,\"#0d0887\"],[0.1111111111111111,\"#46039f\"],[0.2222222222222222,\"#7201a8\"],[0.3333333333333333,\"#9c179e\"],[0.4444444444444444,\"#bd3786\"],[0.5555555555555556,\"#d8576b\"],[0.6666666666666666,\"#ed7953\"],[0.7777777777777778,\"#fb9f3a\"],[0.8888888888888888,\"#fdca26\"],[1.0,\"#f0f921\"]]}],\"heatmap\":[{\"type\":\"heatmap\",\"colorbar\":{\"outlinewidth\":0,\"ticks\":\"\"},\"colorscale\":[[0.0,\"#0d0887\"],[0.1111111111111111,\"#46039f\"],[0.2222222222222222,\"#7201a8\"],[0.3333333333333333,\"#9c179e\"],[0.4444444444444444,\"#bd3786\"],[0.5555555555555556,\"#d8576b\"],[0.6666666666666666,\"#ed7953\"],[0.7777777777777778,\"#fb9f3a\"],[0.8888888888888888,\"#fdca26\"],[1.0,\"#f0f921\"]]}],\"heatmapgl\":[{\"type\":\"heatmapgl\",\"colorbar\":{\"outlinewidth\":0,\"ticks\":\"\"},\"colorscale\":[[0.0,\"#0d0887\"],[0.1111111111111111,\"#46039f\"],[0.2222222222222222,\"#7201a8\"],[0.3333333333333333,\"#9c179e\"],[0.4444444444444444,\"#bd3786\"],[0.5555555555555556,\"#d8576b\"],[0.6666666666666666,\"#ed7953\"],[0.7777777777777778,\"#fb9f3a\"],[0.8888888888888888,\"#fdca26\"],[1.0,\"#f0f921\"]]}],\"contourcarpet\":[{\"type\":\"contourcarpet\",\"colorbar\":{\"outlinewidth\":0,\"ticks\":\"\"}}],\"contour\":[{\"type\":\"contour\",\"colorbar\":{\"outlinewidth\":0,\"ticks\":\"\"},\"colorscale\":[[0.0,\"#0d0887\"],[0.1111111111111111,\"#46039f\"],[0.2222222222222222,\"#7201a8\"],[0.3333333333333333,\"#9c179e\"],[0.4444444444444444,\"#bd3786\"],[0.5555555555555556,\"#d8576b\"],[0.6666666666666666,\"#ed7953\"],[0.7777777777777778,\"#fb9f3a\"],[0.8888888888888888,\"#fdca26\"],[1.0,\"#f0f921\"]]}],\"surface\":[{\"type\":\"surface\",\"colorbar\":{\"outlinewidth\":0,\"ticks\":\"\"},\"colorscale\":[[0.0,\"#0d0887\"],[0.1111111111111111,\"#46039f\"],[0.2222222222222222,\"#7201a8\"],[0.3333333333333333,\"#9c179e\"],[0.4444444444444444,\"#bd3786\"],[0.5555555555555556,\"#d8576b\"],[0.6666666666666666,\"#ed7953\"],[0.7777777777777778,\"#fb9f3a\"],[0.8888888888888888,\"#fdca26\"],[1.0,\"#f0f921\"]]}],\"mesh3d\":[{\"type\":\"mesh3d\",\"colorbar\":{\"outlinewidth\":0,\"ticks\":\"\"}}],\"scatter\":[{\"fillpattern\":{\"fillmode\":\"overlay\",\"size\":10,\"solidity\":0.2},\"type\":\"scatter\"}],\"parcoords\":[{\"type\":\"parcoords\",\"line\":{\"colorbar\":{\"outlinewidth\":0,\"ticks\":\"\"}}}],\"scatterpolargl\":[{\"type\":\"scatterpolargl\",\"marker\":{\"colorbar\":{\"outlinewidth\":0,\"ticks\":\"\"}}}],\"bar\":[{\"error_x\":{\"color\":\"#2a3f5f\"},\"error_y\":{\"color\":\"#2a3f5f\"},\"marker\":{\"line\":{\"color\":\"#E5ECF6\",\"width\":0.5},\"pattern\":{\"fillmode\":\"overlay\",\"size\":10,\"solidity\":0.2}},\"type\":\"bar\"}],\"scattergeo\":[{\"type\":\"scattergeo\",\"marker\":{\"colorbar\":{\"outlinewidth\":0,\"ticks\":\"\"}}}],\"scatterpolar\":[{\"type\":\"scatterpolar\",\"marker\":{\"colorbar\":{\"outlinewidth\":0,\"ticks\":\"\"}}}],\"histogram\":[{\"marker\":{\"pattern\":{\"fillmode\":\"overlay\",\"size\":10,\"solidity\":0.2}},\"type\":\"histogram\"}],\"scattergl\":[{\"type\":\"scattergl\",\"marker\":{\"colorbar\":{\"outlinewidth\":0,\"ticks\":\"\"}}}],\"scatter3d\":[{\"type\":\"scatter3d\",\"line\":{\"colorbar\":{\"outlinewidth\":0,\"ticks\":\"\"}},\"marker\":{\"colorbar\":{\"outlinewidth\":0,\"ticks\":\"\"}}}],\"scattermapbox\":[{\"type\":\"scattermapbox\",\"marker\":{\"colorbar\":{\"outlinewidth\":0,\"ticks\":\"\"}}}],\"scatterternary\":[{\"type\":\"scatterternary\",\"marker\":{\"colorbar\":{\"outlinewidth\":0,\"ticks\":\"\"}}}],\"scattercarpet\":[{\"type\":\"scattercarpet\",\"marker\":{\"colorbar\":{\"outlinewidth\":0,\"ticks\":\"\"}}}],\"carpet\":[{\"aaxis\":{\"endlinecolor\":\"#2a3f5f\",\"gridcolor\":\"white\",\"linecolor\":\"white\",\"minorgridcolor\":\"white\",\"startlinecolor\":\"#2a3f5f\"},\"baxis\":{\"endlinecolor\":\"#2a3f5f\",\"gridcolor\":\"white\",\"linecolor\":\"white\",\"minorgridcolor\":\"white\",\"startlinecolor\":\"#2a3f5f\"},\"type\":\"carpet\"}],\"table\":[{\"cells\":{\"fill\":{\"color\":\"#EBF0F8\"},\"line\":{\"color\":\"white\"}},\"header\":{\"fill\":{\"color\":\"#C8D4E3\"},\"line\":{\"color\":\"white\"}},\"type\":\"table\"}],\"barpolar\":[{\"marker\":{\"line\":{\"color\":\"#E5ECF6\",\"width\":0.5},\"pattern\":{\"fillmode\":\"overlay\",\"size\":10,\"solidity\":0.2}},\"type\":\"barpolar\"}],\"pie\":[{\"automargin\":true,\"type\":\"pie\"}]},\"layout\":{\"autotypenumbers\":\"strict\",\"colorway\":[\"#636efa\",\"#EF553B\",\"#00cc96\",\"#ab63fa\",\"#FFA15A\",\"#19d3f3\",\"#FF6692\",\"#B6E880\",\"#FF97FF\",\"#FECB52\"],\"font\":{\"color\":\"#2a3f5f\"},\"hovermode\":\"closest\",\"hoverlabel\":{\"align\":\"left\"},\"paper_bgcolor\":\"white\",\"plot_bgcolor\":\"#E5ECF6\",\"polar\":{\"bgcolor\":\"#E5ECF6\",\"angularaxis\":{\"gridcolor\":\"white\",\"linecolor\":\"white\",\"ticks\":\"\"},\"radialaxis\":{\"gridcolor\":\"white\",\"linecolor\":\"white\",\"ticks\":\"\"}},\"ternary\":{\"bgcolor\":\"#E5ECF6\",\"aaxis\":{\"gridcolor\":\"white\",\"linecolor\":\"white\",\"ticks\":\"\"},\"baxis\":{\"gridcolor\":\"white\",\"linecolor\":\"white\",\"ticks\":\"\"},\"caxis\":{\"gridcolor\":\"white\",\"linecolor\":\"white\",\"ticks\":\"\"}},\"coloraxis\":{\"colorbar\":{\"outlinewidth\":0,\"ticks\":\"\"}},\"colorscale\":{\"sequential\":[[0.0,\"#0d0887\"],[0.1111111111111111,\"#46039f\"],[0.2222222222222222,\"#7201a8\"],[0.3333333333333333,\"#9c179e\"],[0.4444444444444444,\"#bd3786\"],[0.5555555555555556,\"#d8576b\"],[0.6666666666666666,\"#ed7953\"],[0.7777777777777778,\"#fb9f3a\"],[0.8888888888888888,\"#fdca26\"],[1.0,\"#f0f921\"]],\"sequentialminus\":[[0.0,\"#0d0887\"],[0.1111111111111111,\"#46039f\"],[0.2222222222222222,\"#7201a8\"],[0.3333333333333333,\"#9c179e\"],[0.4444444444444444,\"#bd3786\"],[0.5555555555555556,\"#d8576b\"],[0.6666666666666666,\"#ed7953\"],[0.7777777777777778,\"#fb9f3a\"],[0.8888888888888888,\"#fdca26\"],[1.0,\"#f0f921\"]],\"diverging\":[[0,\"#8e0152\"],[0.1,\"#c51b7d\"],[0.2,\"#de77ae\"],[0.3,\"#f1b6da\"],[0.4,\"#fde0ef\"],[0.5,\"#f7f7f7\"],[0.6,\"#e6f5d0\"],[0.7,\"#b8e186\"],[0.8,\"#7fbc41\"],[0.9,\"#4d9221\"],[1,\"#276419\"]]},\"xaxis\":{\"gridcolor\":\"white\",\"linecolor\":\"white\",\"ticks\":\"\",\"title\":{\"standoff\":15},\"zerolinecolor\":\"white\",\"automargin\":true,\"zerolinewidth\":2},\"yaxis\":{\"gridcolor\":\"white\",\"linecolor\":\"white\",\"ticks\":\"\",\"title\":{\"standoff\":15},\"zerolinecolor\":\"white\",\"automargin\":true,\"zerolinewidth\":2},\"scene\":{\"xaxis\":{\"backgroundcolor\":\"#E5ECF6\",\"gridcolor\":\"white\",\"linecolor\":\"white\",\"showbackground\":true,\"ticks\":\"\",\"zerolinecolor\":\"white\",\"gridwidth\":2},\"yaxis\":{\"backgroundcolor\":\"#E5ECF6\",\"gridcolor\":\"white\",\"linecolor\":\"white\",\"showbackground\":true,\"ticks\":\"\",\"zerolinecolor\":\"white\",\"gridwidth\":2},\"zaxis\":{\"backgroundcolor\":\"#E5ECF6\",\"gridcolor\":\"white\",\"linecolor\":\"white\",\"showbackground\":true,\"ticks\":\"\",\"zerolinecolor\":\"white\",\"gridwidth\":2}},\"shapedefaults\":{\"line\":{\"color\":\"#2a3f5f\"}},\"annotationdefaults\":{\"arrowcolor\":\"#2a3f5f\",\"arrowhead\":0,\"arrowwidth\":1},\"geo\":{\"bgcolor\":\"white\",\"landcolor\":\"#E5ECF6\",\"subunitcolor\":\"white\",\"showland\":true,\"showlakes\":true,\"lakecolor\":\"white\"},\"title\":{\"x\":0.05},\"mapbox\":{\"style\":\"light\"}}},\"xaxis\":{\"anchor\":\"y\",\"domain\":[0.0,1.0],\"title\":{\"text\":\"Model\"},\"rangeslider\":{\"visible\":false}},\"yaxis\":{\"anchor\":\"x\",\"domain\":[0.0,1.0],\"title\":{\"text\":\"Accuracy\"}},\"legend\":{\"title\":{\"text\":\"variable\"},\"tracegroupgap\":0},\"margin\":{\"t\":60},\"title\":{\"text\":\"Accuracy vs Model\",\"y\":0.94,\"x\":0.5,\"xanchor\":\"center\",\"yanchor\":\"top\"},\"showlegend\":true},                        {\"responsive\": true}                    ).then(function(){\n",
       "                            \n",
       "var gd = document.getElementById('3055b105-093b-422d-b200-78d047adca7a');\n",
       "var x = new MutationObserver(function (mutations, observer) {{\n",
       "        var display = window.getComputedStyle(gd).display;\n",
       "        if (!display || display === 'none') {{\n",
       "            console.log([gd, 'removed!']);\n",
       "            Plotly.purge(gd);\n",
       "            observer.disconnect();\n",
       "        }}\n",
       "}});\n",
       "\n",
       "// Listen for the removal of the full notebook cells\n",
       "var notebookContainer = gd.closest('#notebook-container');\n",
       "if (notebookContainer) {{\n",
       "    x.observe(notebookContainer, {childList: true});\n",
       "}}\n",
       "\n",
       "// Listen for the clearing of the current output cell\n",
       "var outputEl = gd.closest('.output');\n",
       "if (outputEl) {{\n",
       "    x.observe(outputEl, {childList: true});\n",
       "}}\n",
       "\n",
       "                        })                };                });            </script>        </div>"
      ]
     },
     "metadata": {},
     "output_type": "display_data"
    }
   ],
   "source": [
    "line = px.line(data_frame=models, y = ['Accuracy'], markers = True)\n",
    "line.update_xaxes(title = \"Model\", rangeslider_visible = False)\n",
    "line.update_yaxes(title = \"Accuracy\")\n",
    "line.update_traces(line_color=\"green\")\n",
    "line.update_layout(showlegend=True, \n",
    "                   title = {\n",
    "                       'text': 'Accuracy vs Model',\n",
    "                       'y': 0.94,\n",
    "                       'x': 0.5,\n",
    "                       'xanchor': 'center',\n",
    "                       'yanchor': 'top'\n",
    "                   })\n",
    "line.show()"
   ]
  },
  {
   "cell_type": "code",
   "execution_count": 14,
   "id": "99ed488b",
   "metadata": {
    "execution": {
     "iopub.execute_input": "2023-09-28T10:02:37.906342Z",
     "iopub.status.busy": "2023-09-28T10:02:37.905593Z",
     "iopub.status.idle": "2023-09-28T10:02:38.081249Z",
     "shell.execute_reply": "2023-09-28T10:02:38.080096Z"
    },
    "papermill": {
     "duration": 0.187722,
     "end_time": "2023-09-28T10:02:38.083979",
     "exception": false,
     "start_time": "2023-09-28T10:02:37.896257",
     "status": "completed"
    },
    "tags": []
   },
   "outputs": [
    {
     "name": "stdout",
     "output_type": "stream",
     "text": [
      "Best Parameters: {}\n",
      "Test Accuracy  : 0.6585365853658537\n"
     ]
    }
   ],
   "source": [
    "from sklearn.discriminant_analysis import QuadraticDiscriminantAnalysis\n",
    "\n",
    "param_grid = {}\n",
    "\n",
    "qda = QuadraticDiscriminantAnalysis()\n",
    "\n",
    "stratifiled_kfold = StratifiedKFold(n_splits=11, shuffle=True, random_state=45)\n",
    "\n",
    "grid_search = GridSearchCV(qda, cv=stratifiled_kfold, param_grid = param_grid, scoring='accuracy')\n",
    "\n",
    "grid_search.fit(X_train, y_train)\n",
    "\n",
    "best_params = grid_search.best_params_\n",
    "best_model = grid_search.best_estimator_\n",
    "\n",
    "y_pred = best_model.predict(X_test)\n",
    "test_accuracy = accuracy_score(y_test, y_pred)\n",
    "\n",
    "print(\"Best Parameters:\", best_params)\n",
    "print(\"Test Accuracy  :\", test_accuracy)"
   ]
  },
  {
   "cell_type": "code",
   "execution_count": 15,
   "id": "d76e2345",
   "metadata": {
    "execution": {
     "iopub.execute_input": "2023-09-28T10:02:38.102113Z",
     "iopub.status.busy": "2023-09-28T10:02:38.101700Z",
     "iopub.status.idle": "2023-09-28T10:02:38.116211Z",
     "shell.execute_reply": "2023-09-28T10:02:38.115057Z"
    },
    "papermill": {
     "duration": 0.02706,
     "end_time": "2023-09-28T10:02:38.119419",
     "exception": false,
     "start_time": "2023-09-28T10:02:38.092359",
     "status": "completed"
    },
    "tags": []
   },
   "outputs": [
    {
     "name": "stdout",
     "output_type": "stream",
     "text": [
      "              precision    recall  f1-score   support\n",
      "\n",
      "           0       0.66      0.89      0.76       396\n",
      "           1       0.65      0.30      0.41       260\n",
      "\n",
      "    accuracy                           0.66       656\n",
      "   macro avg       0.66      0.60      0.59       656\n",
      "weighted avg       0.66      0.66      0.62       656\n",
      "\n"
     ]
    }
   ],
   "source": [
    "print(classification_report(y_test,y_pred))"
   ]
  },
  {
   "cell_type": "code",
   "execution_count": 16,
   "id": "c27b8a24",
   "metadata": {
    "execution": {
     "iopub.execute_input": "2023-09-28T10:02:38.148963Z",
     "iopub.status.busy": "2023-09-28T10:02:38.148580Z",
     "iopub.status.idle": "2023-09-28T10:02:38.562291Z",
     "shell.execute_reply": "2023-09-28T10:02:38.561040Z"
    },
    "papermill": {
     "duration": 0.431095,
     "end_time": "2023-09-28T10:02:38.564858",
     "exception": false,
     "start_time": "2023-09-28T10:02:38.133763",
     "status": "completed"
    },
    "tags": []
   },
   "outputs": [
    {
     "data": {
      "image/png": "[encoded data removed]",
      "text/plain": [
       "<Figure size 800x550 with 1 Axes>"
      ]
     },
     "metadata": {},
     "output_type": "display_data"
    },
    {
     "data": {
      "text/plain": [
       "<Axes: title={'center': 'ROC Curves for QuadraticDiscriminantAnalysis'}, xlabel='False Positive Rate', ylabel='True Positive Rate'>"
      ]
     },
     "execution_count": 16,
     "metadata": {},
     "output_type": "execute_result"
    }
   ],
   "source": [
    "ROC = ROCAUC(qda)\n",
    "ROC.fit(X_train, y_train)\n",
    "ROC.score(X_test, y_test)\n",
    "ROC.poof()"
   ]
  },
  {
   "cell_type": "code",
   "execution_count": null,
   "id": "737326c8",
   "metadata": {
    "papermill": {
     "duration": 0.009417,
     "end_time": "2023-09-28T10:02:38.583645",
     "exception": false,
     "start_time": "2023-09-28T10:02:38.574228",
     "status": "completed"
    },
    "tags": []
   },
   "outputs": [],
   "source": []
  }
 ],
 "metadata": {
  "kernelspec": {
   "display_name": "Python 3",
   "language": "python",
   "name": "python3"
  },
  "language_info": {
   "codemirror_mode": {
    "name": "ipython",
    "version": 3
   },
   "file_extension": ".py",
   "mimetype": "text/x-python",
   "name": "python",
   "nbconvert_exporter": "python",
   "pygments_lexer": "ipython3",
   "version": "3.10.12"
  },
  "papermill": {
   "default_parameters": {},
   "duration": 35.241196,
   "end_time": "2023-09-28T10:02:39.617177",
   "environment_variables": {},
   "exception": null,
   "input_path": "__notebook__.ipynb",
   "output_path": "__notebook__.ipynb",
   "parameters": {},
   "start_time": "2023-09-28T10:02:04.375981",
   "version": "2.4.0"
  }
 },
 "nbformat": 4,
 "nbformat_minor": 5
}
